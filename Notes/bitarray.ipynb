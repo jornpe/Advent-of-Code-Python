{
 "cells": [
  {
   "cell_type": "code",
   "execution_count": 7,
   "metadata": {},
   "outputs": [
    {
     "data": {
      "text/plain": [
       "bitarray('110')"
      ]
     },
     "execution_count": 7,
     "metadata": {},
     "output_type": "execute_result"
    }
   ],
   "source": [
    "from bitarray import bitarray\n",
    "\n",
    "a = bitarray()\n",
    "a.append(1)\n",
    "a.extend([1, 0])\n",
    "a"
   ]
  },
  {
   "cell_type": "code",
   "execution_count": 2,
   "metadata": {},
   "outputs": [
    {
     "name": "stdout",
     "output_type": "stream",
     "text": [
      "bitarray('00000111')\n",
      "7\n"
     ]
    }
   ],
   "source": [
    "from bitarray.util import int2ba, ba2int\n",
    "\n",
    "a = int2ba(7, length=8)\n",
    "print(a)\n",
    "print(ba2int(a))"
   ]
  },
  {
   "cell_type": "code",
   "execution_count": 9,
   "metadata": {},
   "outputs": [
    {
     "data": {
      "text/plain": [
       "bitarray('10011')"
      ]
     },
     "execution_count": 9,
     "metadata": {},
     "output_type": "execute_result"
    }
   ],
   "source": [
    "from bitarray import bitarray\n",
    "\n",
    "a = bitarray([1, 0, False, True, True])\n",
    "a"
   ]
  },
  {
   "cell_type": "code",
   "execution_count": 10,
   "metadata": {},
   "outputs": [
    {
     "data": {
      "text/plain": [
       "bitarray('100001')"
      ]
     },
     "execution_count": 10,
     "metadata": {},
     "output_type": "execute_result"
    }
   ],
   "source": [
    "from bitarray import bitarray\n",
    "\n",
    "a = bitarray('100001')\n",
    "a"
   ]
  },
  {
   "cell_type": "code",
   "execution_count": 13,
   "metadata": {},
   "outputs": [
    {
     "data": {
      "text/plain": [
       "bitarray('010')"
      ]
     },
     "execution_count": 13,
     "metadata": {},
     "output_type": "execute_result"
    }
   ],
   "source": [
    "from bitarray import bitarray\n",
    "\n",
    "a = bitarray('101011')\n",
    "a[1:4]"
   ]
  },
  {
   "cell_type": "code",
   "execution_count": 14,
   "metadata": {},
   "outputs": [
    {
     "data": {
      "text/plain": [
       "bitarray('100001000111')"
      ]
     },
     "execution_count": 14,
     "metadata": {},
     "output_type": "execute_result"
    }
   ],
   "source": [
    "from bitarray import bitarray\n",
    "\n",
    "a = bitarray('100001')\n",
    "a += bitarray('000111')\n",
    "a"
   ]
  },
  {
   "cell_type": "code",
   "execution_count": 24,
   "metadata": {},
   "outputs": [
    {
     "name": "stdout",
     "output_type": "stream",
     "text": [
      "bitarray('1100000000001')\n",
      "bitarray('1110000000001')\n"
     ]
    },
    {
     "data": {
      "text/plain": [
       "bitarray('1110111111001')"
      ]
     },
     "execution_count": 24,
     "metadata": {},
     "output_type": "execute_result"
    }
   ],
   "source": [
    "from bitarray import bitarray\n",
    "\n",
    "a = bitarray('1000000000001')\n",
    "a[1] = 1\n",
    "print(a)\n",
    "a[2] = True\n",
    "print(a)\n",
    "a[4:10] = 1\n",
    "a"
   ]
  },
  {
   "cell_type": "code",
   "execution_count": 39,
   "metadata": {},
   "outputs": [
    {
     "name": "stdout",
     "output_type": "stream",
     "text": [
      "Inverted: bitarray('010001110')\n",
      "\n",
      "XOR: bitarray('101110001') bitarray('111001011') = bitarray('010111010')\n",
      "\n",
      "XOR: bitarray('101110001') bitarray('111001011') = bitarray('101000001')\n",
      "\n",
      "XOR: bitarray('101110001') bitarray('111001011') = bitarray('111111011')\n",
      "\n",
      "Left shift by 2: bitarray('101110001') = bitarray('111000100')\n",
      "\n",
      "Right shift by 2: bitarray('101110001') = bitarray('001011100')\n",
      "\n"
     ]
    }
   ],
   "source": [
    "from bitarray import bitarray\n",
    "\n",
    "a = bitarray('101110001')\n",
    "b = bitarray('111001011')\n",
    "\n",
    "print(f'Inverted: {~a}')\n",
    "print()\n",
    "# XOR: 1 + 1 = 0, 1 + 0 = 1, 0 + 1 = 1, 0 + 0 = 0\n",
    "print(f'XOR: {a} {b} = {a ^ b}')\n",
    "print()\n",
    "# AND\n",
    "print(f'XOR: {a} {b} = {a & b}')\n",
    "print()\n",
    "# OR\n",
    "print(f'XOR: {a} {b} = {a | b}')\n",
    "print()\n",
    "# Left shift by 2\n",
    "print(f'Left shift by 2: {a} = {a << 2}')\n",
    "print()\n",
    "# Right shift by 2\n",
    "print(f'Right shift by 2: {a} = {a >> 2}')\n",
    "print()\n",
    "\n"
   ]
  }
 ],
 "metadata": {
  "kernelspec": {
   "display_name": "Python 3",
   "language": "python",
   "name": "python3"
  },
  "language_info": {
   "codemirror_mode": {
    "name": "ipython",
    "version": 3
   },
   "file_extension": ".py",
   "mimetype": "text/x-python",
   "name": "python",
   "nbconvert_exporter": "python",
   "pygments_lexer": "ipython3",
   "version": "3.12.1"
  }
 },
 "nbformat": 4,
 "nbformat_minor": 2
}
