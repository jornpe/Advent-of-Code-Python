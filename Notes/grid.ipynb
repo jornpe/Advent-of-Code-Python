{
 "cells": [
  {
   "cell_type": "markdown",
   "metadata": {},
   "source": [
    "## Moving in 2D grid\n",
    "\n",
    "When moving around in a 2D grid and turning ether Right or Left the facing can be updated using this formula:\n",
    "R -> -y, x\n",
    "L -> y, -x"
   ]
  },
  {
   "cell_type": "code",
   "execution_count": 2,
   "metadata": {},
   "outputs": [
    {
     "name": "stdout",
     "output_type": "stream",
     "text": [
      "0 1\n",
      "1 0\n"
     ]
    }
   ],
   "source": [
    "x, y = 1, 0\n",
    "\n",
    "# Right\n",
    "x, y = -y, x\n",
    "print(x, y)\n",
    "\n",
    "# Left\n",
    "x, y = y, -x\n",
    "print(x, y)"
   ]
  },
  {
   "cell_type": "markdown",
   "metadata": {},
   "source": [
    "If the only need is to move in a grid and check the position to the origin, an easier approch is to rotate the world.\n",
    "This is from AoC 2016 Day 1, here the world is turned so you only move up, meanig only x need to increase in value. "
   ]
  },
  {
   "cell_type": "code",
   "execution_count": 4,
   "metadata": {},
   "outputs": [
    {
     "name": "stdout",
     "output_type": "stream",
     "text": [
      "8\n"
     ]
    }
   ],
   "source": [
    "steps = [(line.strip()[0], int(line.strip()[1:])) for line in 'R8, R4, R4, R8'.split(',')]\n",
    "\n",
    "x, y = 0, 0\n",
    "\n",
    "for dir, move in steps:\n",
    "    x, y = (-y, x) if dir == 'R' else (y, -x)\n",
    "    x += int(move)\n",
    "\n",
    "\n",
    "print(abs(x) + abs(y))"
   ]
  }
 ],
 "metadata": {
  "kernelspec": {
   "display_name": "venv",
   "language": "python",
   "name": "python3"
  },
  "language_info": {
   "codemirror_mode": {
    "name": "ipython",
    "version": 3
   },
   "file_extension": ".py",
   "mimetype": "text/x-python",
   "name": "python",
   "nbconvert_exporter": "python",
   "pygments_lexer": "ipython3",
   "version": "3.12.6"
  }
 },
 "nbformat": 4,
 "nbformat_minor": 2
}
