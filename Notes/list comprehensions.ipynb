{
 "cells": [
  {
   "cell_type": "markdown",
   "metadata": {},
   "source": [
    "When computing a list comprehension it start on the outer list and from left to the right.\n",
    "\n",
    "So the first below starts with the intlist with 0, then runs the char list full cycle, then next on intlist. \n",
    "\n",
    "The second below starts with the charlist as its the outermost list and then for each char it runs the inner intlist. "
   ]
  },
  {
   "cell_type": "code",
   "execution_count": 14,
   "metadata": {},
   "outputs": [
    {
     "name": "stdout",
     "output_type": "stream",
     "text": [
      "[(0, 'a'), (0, 'b'), (0, 'c'), (1, 'a'), (1, 'b'), (1, 'c'), (2, 'a'), (2, 'b'), (2, 'c'), (3, 'a'), (3, 'b'), (3, 'c'), (4, 'a'), (4, 'b'), (4, 'c')]\n",
      "[[(0, 'a'), (1, 'a'), (2, 'a'), (3, 'a'), (4, 'a')], [(0, 'b'), (1, 'b'), (2, 'b'), (3, 'b'), (4, 'b')], [(0, 'c'), (1, 'c'), (2, 'c'), (3, 'c'), (4, 'c')]]\n",
      "[[(0, 'a', 'd'), (1, 'a', 'd')], [(0, 'a', 'e'), (1, 'a', 'e')], [(0, 'b', 'd'), (1, 'b', 'd')], [(0, 'b', 'e'), (1, 'b', 'e')]]\n"
     ]
    }
   ],
   "source": [
    "intlist = range(5)\n",
    "charlist = ['a', 'b', 'c']\n",
    "charlist2 = ['d', 'e']\n",
    "\n",
    "l1 = [(a, b) for a in intlist for b in charlist]\n",
    "l2 = [[(a, b) for a in intlist] for b in charlist]\n",
    "l3 = [[(a, b, c) for a in intlist[:2]] for b in charlist[:2] for c in charlist2]\n",
    "\n",
    "print(l1)\n",
    "print(l2)\n",
    "print(l3)"
   ]
  }
 ],
 "metadata": {
  "kernelspec": {
   "display_name": "Python 3",
   "language": "python",
   "name": "python3"
  },
  "language_info": {
   "codemirror_mode": {
    "name": "ipython",
    "version": 3
   },
   "file_extension": ".py",
   "mimetype": "text/x-python",
   "name": "python",
   "nbconvert_exporter": "python",
   "pygments_lexer": "ipython3",
   "version": "3.12.1"
  }
 },
 "nbformat": 4,
 "nbformat_minor": 2
}
