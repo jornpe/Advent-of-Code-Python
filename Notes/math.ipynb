{
 "cells": [
  {
   "cell_type": "markdown",
   "metadata": {},
   "source": [
    "## Some usefull math problems that usually is in some of the puzzles"
   ]
  },
  {
   "cell_type": "markdown",
   "metadata": {},
   "source": [
    "### Least common multiplier\n",
    "This is the lowest number of which a set uf numbers can add up to all of them.\n",
    "\n",
    "So lets say 4 cars drive a circute, the first uses 2 minutes pr lap, second 4 minutes, third 8 minutes and the fourth 11 minutes. \n",
    "What is the shortes time it will take for all of them to be at the start point? "
   ]
  },
  {
   "cell_type": "code",
   "execution_count": 3,
   "metadata": {},
   "outputs": [
    {
     "name": "stdout",
     "output_type": "stream",
     "text": [
      "88\n"
     ]
    }
   ],
   "source": [
    "import math\n",
    "numbers = [2, 4, 8, 11]\n",
    "lcm = math.lcm(*numbers)\n",
    "print(lcm)"
   ]
  }
 ],
 "metadata": {
  "kernelspec": {
   "display_name": "Python 3",
   "language": "python",
   "name": "python3"
  },
  "language_info": {
   "codemirror_mode": {
    "name": "ipython",
    "version": 3
   },
   "file_extension": ".py",
   "mimetype": "text/x-python",
   "name": "python",
   "nbconvert_exporter": "python",
   "pygments_lexer": "ipython3",
   "version": "3.12.0"
  }
 },
 "nbformat": 4,
 "nbformat_minor": 2
}
