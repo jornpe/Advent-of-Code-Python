{
 "cells": [
  {
   "cell_type": "markdown",
   "metadata": {},
   "source": [
    "### Intersecting 2 lists\n",
    "The lists needs to be sets and then you can run intersection between them"
   ]
  },
  {
   "cell_type": "code",
   "execution_count": 26,
   "metadata": {},
   "outputs": [
    {
     "name": "stdout",
     "output_type": "stream",
     "text": [
      "{2, 3}\n"
     ]
    }
   ],
   "source": [
    "set1 = set([0, 1, 2, 3])\n",
    "set2 = set([2, 3, 4, 5])\n",
    "\n",
    "print(set1.intersection(set2))\n"
   ]
  },
  {
   "cell_type": "markdown",
   "metadata": {},
   "source": [
    "### Conditional assignment in python"
   ]
  },
  {
   "cell_type": "code",
   "execution_count": 27,
   "metadata": {},
   "outputs": [],
   "source": [
    "foo = 'True' if 1 > 0 else 'False'"
   ]
  },
  {
   "cell_type": "markdown",
   "metadata": {},
   "source": [
    "### List slicing"
   ]
  },
  {
   "cell_type": "code",
   "execution_count": 28,
   "metadata": {},
   "outputs": [
    {
     "name": "stdout",
     "output_type": "stream",
     "text": [
      "First 5\n",
      "[1, 2, 3, 4, 5]\n",
      "2 -> 5\n",
      "[3, 4, 5]\n",
      "Last 5\n",
      "[5, 6, 7, 8, 9]\n",
      "All\n",
      "[1, 2, 3, 4, 5, 6, 7, 8, 9]\n",
      "Reverse\n",
      "[9, 8, 7, 6, 5, 4, 3, 2, 1]\n",
      "every 2\n",
      "[1, 3, 5, 7, 9]\n",
      "every other 2\n",
      "[2, 4, 6, 8]\n"
     ]
    }
   ],
   "source": [
    "list1 = [1, 2, 3, 4, 5, 6, 7, 8, 9]\n",
    "print('First 5')\n",
    "print(list(list1[:5]))\n",
    "print('2 -> 5')\n",
    "print(list(list1[2:5]))\n",
    "print('Last 5')\n",
    "print(list(list1[-5:]))\n",
    "print('All')\n",
    "print(list(list1[::]))\n",
    "print('Reverse')\n",
    "print(list(list1[::-1]))\n",
    "print('every 2')\n",
    "print(list(list1[::2]))\n",
    "print('every other 2')\n",
    "print(list(list1[1::2]))"
   ]
  },
  {
   "cell_type": "markdown",
   "metadata": {},
   "source": [
    "### Multiplying all values in a list together"
   ]
  },
  {
   "cell_type": "code",
   "execution_count": 4,
   "metadata": {},
   "outputs": [
    {
     "name": "stdout",
     "output_type": "stream",
     "text": [
      "24\n"
     ]
    }
   ],
   "source": [
    "import math\n",
    "\n",
    "value2 = math.prod(list1)\n",
    "print(value2)"
   ]
  },
  {
   "cell_type": "markdown",
   "metadata": {},
   "source": [
    "### Unpacking a list to variabled\n",
    "By putting the asterisk (*) in front of a variable name, you’ll pack the leftover elements into a list and assign them to a variable."
   ]
  },
  {
   "cell_type": "code",
   "execution_count": 29,
   "metadata": {},
   "outputs": [
    {
     "name": "stdout",
     "output_type": "stream",
     "text": [
      "cyan\n",
      "magenta\n",
      "['yellow', 'black']\n"
     ]
    }
   ],
   "source": [
    "colors = ['cyan', 'magenta', 'yellow', 'black']\n",
    "cyan, magenta, *other = colors\n",
    "\n",
    "print(cyan)\n",
    "print(magenta)\n",
    "print(other)"
   ]
  },
  {
   "cell_type": "markdown",
   "metadata": {},
   "source": [
    "Collections - Counter"
   ]
  },
  {
   "cell_type": "code",
   "execution_count": 30,
   "metadata": {},
   "outputs": [
    {
     "name": "stdout",
     "output_type": "stream",
     "text": [
      "Counter({'good': 5, 'bad': 4})\n"
     ]
    }
   ],
   "source": [
    "from collections import Counter\n",
    "\n",
    "good_or_bad = [\n",
    "    'good', 'good', 'good',\n",
    "    'bad', 'bad', 'good',\n",
    "    'bad', 'good', 'bad'\n",
    "]\n",
    "\n",
    "counts = Counter(good_or_bad)\n",
    "print(counts)"
   ]
  }
 ],
 "metadata": {
  "kernelspec": {
   "display_name": "Python 3",
   "language": "python",
   "name": "python3"
  },
  "language_info": {
   "codemirror_mode": {
    "name": "ipython",
    "version": 3
   },
   "file_extension": ".py",
   "mimetype": "text/x-python",
   "name": "python",
   "nbconvert_exporter": "python",
   "pygments_lexer": "ipython3",
   "version": "3.12.0"
  }
 },
 "nbformat": 4,
 "nbformat_minor": 2
}
