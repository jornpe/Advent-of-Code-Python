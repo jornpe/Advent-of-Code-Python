{
 "cells": [
  {
   "cell_type": "markdown",
   "metadata": {},
   "source": [
    "### More itertools project\n",
    "\n",
    "There is a project called more itertools that expands on itertools with more functionality. \n",
    "\n",
    "[More itertools Github page](https://github.com/more-itertools/more-itertools)"
   ]
  },
  {
   "cell_type": "markdown",
   "metadata": {},
   "source": [
    "### Zip and zip_longest"
   ]
  },
  {
   "cell_type": "code",
   "execution_count": 1,
   "metadata": {},
   "outputs": [
    {
     "name": "stdout",
     "output_type": "stream",
     "text": [
      "1 a\n",
      "2 b\n",
      "3 c\n"
     ]
    }
   ],
   "source": [
    "numbers = [1, 2, 3, 4]\n",
    "letters = ['a', 'b', 'c']\n",
    "\n",
    "for number, letter in zip(numbers, letters):\n",
    "  print(number, letter)"
   ]
  },
  {
   "cell_type": "code",
   "execution_count": 3,
   "metadata": {},
   "outputs": [
    {
     "name": "stdout",
     "output_type": "stream",
     "text": [
      "1 a\n",
      "2 b\n",
      "3 c\n",
      "4 None\n",
      "\n",
      "1 a\n",
      "2 b\n",
      "3 c\n",
      "4 0\n"
     ]
    }
   ],
   "source": [
    "from itertools import zip_longest\n",
    "\n",
    "numbers = [1, 2, 3, 4]\n",
    "letters = ['a', 'b', 'c']\n",
    "\n",
    "for number, letter in zip_longest(numbers, letters):\n",
    "  print(number, letter)\n",
    "\n",
    "print()\n",
    "\n",
    "# With fill value, so that the default value is 0 and not None\n",
    "for number, letter in zip_longest(numbers, letters, fillvalue=0):\n",
    "  print(number, letter)"
   ]
  },
  {
   "cell_type": "markdown",
   "metadata": {},
   "source": [
    "### Pairwise"
   ]
  },
  {
   "cell_type": "code",
   "execution_count": 5,
   "metadata": {},
   "outputs": [
    {
     "name": "stdout",
     "output_type": "stream",
     "text": [
      "A B\n",
      "B C\n",
      "C D\n",
      "D F\n",
      "F G\n",
      "1 2\n",
      "2 3\n",
      "3 4\n",
      "4 5\n",
      "5 6\n",
      "6 7\n",
      "7 8\n"
     ]
    }
   ],
   "source": [
    "from itertools import pairwise\n",
    "\n",
    "letters = ['A', 'B', 'C', 'D', 'F', 'G']\n",
    "numbers = [1, 2, 3, 4, 5, 6, 7, 8]\n",
    "\n",
    "for first, second in pairwise(letters):\n",
    "    print(first, second)\n",
    "for first, second in pairwise(numbers):\n",
    "    print(first, second)"
   ]
  },
  {
   "attachments": {
    "image.png": {
     "image/png": "[encoded data removed]"
    }
   },
   "cell_type": "markdown",
   "metadata": {},
   "source": [
    "## Product\n",
    "https://note.nkmk.me/en/python-itertools-product/\n",
    "\n",
    "Gives you all the Cartesian product of multiple lists. You can also choose to use repeat to repeat the lists provided. \n",
    "\n",
    "Tip: if you need all binary digits form 000 -> 111, then using ```itertools.product([0, 1], repeat=3)``` gives you that\n",
    "\n",
    "![image.png](attachment:image.png)"
   ]
  },
  {
   "cell_type": "code",
   "execution_count": 9,
   "metadata": {},
   "outputs": [
    {
     "name": "stdout",
     "output_type": "stream",
     "text": [
      "[(1, 'A'), (1, 'B'), (2, 'A'), (2, 'B'), (3, 'A'), (3, 'B')]\n",
      "[(0, 0), (0, 1), (1, 0), (1, 1)]\n",
      "[(0, 0), (0, 1), (1, 0), (1, 1)]\n"
     ]
    }
   ],
   "source": [
    "import itertools\n",
    "\n",
    "prod = itertools.product([1, 2, 3], ['A', 'B'])\n",
    "print(list(prod))\n",
    "\n",
    "prod = itertools.product([0, 1], repeat=2)\n",
    "print(list(prod))\n",
    "\n",
    "prod = itertools.product([0, 1], repeat=2)\n",
    "print(list(prod))"
   ]
  },
  {
   "cell_type": "markdown",
   "metadata": {},
   "source": [
    "## Combinations and permitations\n",
    "Difference is that in combinations (a, b) is listed but not (b, a) while in permutations both are listed. \n",
    "\n",
    "Combinations_with_replacement also adds the same index in a list twice. So ``[a, b]`` yields ``('a', 'a'), ('a', 'b'), ('b', 'b')`` while combinations would yield ``('a', 'b')``"
   ]
  },
  {
   "cell_type": "code",
   "execution_count": 19,
   "metadata": {},
   "outputs": [
    {
     "name": "stdout",
     "output_type": "stream",
     "text": [
      "Combinations\n",
      "[(1, 2), (1, 3), (1, 4), (2, 3), (2, 4), (3, 4)]\n",
      "[(1, 2, 3), (1, 2, 4), (1, 3, 4), (2, 3, 4)]\n",
      "Combinations with replacement\n",
      "[(1, 1), (1, 2), (1, 3), (1, 4), (2, 2), (2, 3), (2, 4), (3, 3), (3, 4), (4, 4)]\n",
      "[(1, 1, 1), (1, 1, 2), (1, 1, 3), (1, 1, 4), (1, 2, 2), (1, 2, 3), (1, 2, 4), (1, 3, 3), (1, 3, 4), (1, 4, 4), (2, 2, 2), (2, 2, 3), (2, 2, 4), (2, 3, 3), (2, 3, 4), (2, 4, 4), (3, 3, 3), (3, 3, 4), (3, 4, 4), (4, 4, 4)]\n",
      "\n",
      "Permutations\n",
      "[(1, 2), (1, 3), (1, 4), (2, 1), (2, 3), (2, 4), (3, 1), (3, 2), (3, 4), (4, 1), (4, 2), (4, 3)]\n",
      "[(1, 2, 3), (1, 2, 4), (1, 3, 2), (1, 3, 4), (1, 4, 2), (1, 4, 3), (2, 1, 3), (2, 1, 4), (2, 3, 1), (2, 3, 4), (2, 4, 1), (2, 4, 3), (3, 1, 2), (3, 1, 4), (3, 2, 1), (3, 2, 4), (3, 4, 1), (3, 4, 2), (4, 1, 2), (4, 1, 3), (4, 2, 1), (4, 2, 3), (4, 3, 1), (4, 3, 2)]\n"
     ]
    }
   ],
   "source": [
    "from itertools import combinations, permutations, combinations_with_replacement\n",
    "\n",
    "l1 = [1, 2, 3, 4]\n",
    "\n",
    "print('Combinations')\n",
    "print(list(combinations(l1, 2)))\n",
    "print(list(combinations(l1, 3)))\n",
    "print('Combinations with replacement')\n",
    "print(list(combinations_with_replacement(l1, 2)))\n",
    "print(list(combinations_with_replacement(l1, 3)))\n",
    "print()\n",
    "print('Permutations')\n",
    "print(list(permutations(l1, 2)))\n",
    "print(list(permutations(l1, 3)))"
   ]
  }
 ],
 "metadata": {
  "kernelspec": {
   "display_name": "Python 3",
   "language": "python",
   "name": "python3"
  },
  "language_info": {
   "codemirror_mode": {
    "name": "ipython",
    "version": 3
   },
   "file_extension": ".py",
   "mimetype": "text/x-python",
   "name": "python",
   "nbconvert_exporter": "python",
   "pygments_lexer": "ipython3",
   "version": "3.12.1"
  }
 },
 "nbformat": 4,
 "nbformat_minor": 2
}
